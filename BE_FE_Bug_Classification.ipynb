{
 "cells": [
  {
   "cell_type": "markdown",
   "metadata": {},
   "source": [
    "\n",
    "# Project: Back-End (BE) and Front-End (FE) bug classification\n",
    "\n",
    " ## Table of Contents <ul>\n",
    "<li><a href=\"#intro\">Introduction</a></li>\n",
    "<li><a href=\"#wrangling\">Data Wrangling</a></li>\n",
    "</ul>"
   ]
  },
  {
   "cell_type": "markdown",
   "metadata": {},
   "source": [
    "<a id='intro'></a>\n",
    "## Introduction\n",
    "> The fact that a bug is a front end (FE) bug or a back end (BE) bug can be helpfull for software production teams. Most of the companies have FE and BE teams, so tagging a bug as an FE or BE bug can help to a better bug assignment. In this work, we try to classify bugs to FE and BE classes. For this purpose, we use **[Eclips platform](https://github.com/logpai/bugrepo/blob/master/EclipsePlatform/eclipse_platform.zip)** data set. These are the steps that we are following to perform this task:\n",
    "> <ol>\n",
    "    <li>Undestanding the Data set</li>\n",
    "    <li>Manually calssifying a limitted sample of the dataset</li>\n",
    "    <li>Performing some machine learning algorithm on the sample and finding out the accuracy of them</li>\n",
    "    <li>Asking some developers to classify another sample of dataset (Evaluation set) </li>\n",
    "    <li>Using the tarined machine learning on the evaluation set </li>\n",
    "</ol>"
   ]
  },
  {
   "cell_type": "markdown",
   "metadata": {},
   "source": [
    "<a id='wrangling'></a>\n",
    "## Data Wrangling"
   ]
  },
  {
   "cell_type": "code",
   "execution_count": 30,
   "metadata": {},
   "outputs": [],
   "source": [
    "import pandas as pd\n",
    "import numpy as np\n",
    "import matplotlib.pyplot as plt\n",
    "import datetime\n",
    "import string\n",
    "\n",
    "# nltk imports\n",
    "from nltk.corpus import stopwords\n",
    "from nltk.stem import PorterStemmer\n",
    "from nltk.stem import LancasterStemmer\n",
    "\n",
    "%matplotlib inline\n"
   ]
  },
  {
   "cell_type": "code",
   "execution_count": 3,
   "metadata": {},
   "outputs": [
    {
     "data": {
      "text/html": [
       "<div>\n",
       "<style scoped>\n",
       "    .dataframe tbody tr th:only-of-type {\n",
       "        vertical-align: middle;\n",
       "    }\n",
       "\n",
       "    .dataframe tbody tr th {\n",
       "        vertical-align: top;\n",
       "    }\n",
       "\n",
       "    .dataframe thead th {\n",
       "        text-align: right;\n",
       "    }\n",
       "</style>\n",
       "<table border=\"1\" class=\"dataframe\">\n",
       "  <thead>\n",
       "    <tr style=\"text-align: right;\">\n",
       "      <th></th>\n",
       "      <th>Issue_id</th>\n",
       "      <th>Priority</th>\n",
       "      <th>Component</th>\n",
       "      <th>Duplicated_issue</th>\n",
       "      <th>Title</th>\n",
       "      <th>Description</th>\n",
       "      <th>Status</th>\n",
       "      <th>Resolution</th>\n",
       "      <th>Version</th>\n",
       "      <th>Created_time</th>\n",
       "      <th>Resolved_time</th>\n",
       "    </tr>\n",
       "  </thead>\n",
       "  <tbody>\n",
       "    <tr>\n",
       "      <td>0</td>\n",
       "      <td>1</td>\n",
       "      <td>P3</td>\n",
       "      <td>Team</td>\n",
       "      <td>NaN</td>\n",
       "      <td>Usability issue with external editors (1GE6IRL)</td>\n",
       "      <td>- Setup a project that contains a *.gif resour...</td>\n",
       "      <td>CLOSED</td>\n",
       "      <td>FIXED</td>\n",
       "      <td>2.0</td>\n",
       "      <td>2001-10-10 21:34:00 -0400</td>\n",
       "      <td>2012-02-09 15:57:47 -0500</td>\n",
       "    </tr>\n",
       "    <tr>\n",
       "      <td>1</td>\n",
       "      <td>2</td>\n",
       "      <td>P5</td>\n",
       "      <td>Team</td>\n",
       "      <td>NaN</td>\n",
       "      <td>Opening repository resources doesnt honor type...</td>\n",
       "      <td>Opening repository resource always open the de...</td>\n",
       "      <td>RESOLVED</td>\n",
       "      <td>FIXED</td>\n",
       "      <td>2.0</td>\n",
       "      <td>2001-10-10 21:34:00 -0400</td>\n",
       "      <td>2002-05-07 10:33:56 -0400</td>\n",
       "    </tr>\n",
       "    <tr>\n",
       "      <td>2</td>\n",
       "      <td>3</td>\n",
       "      <td>P5</td>\n",
       "      <td>Team</td>\n",
       "      <td>NaN</td>\n",
       "      <td>Sync does not indicate deletion (1GIEN83)</td>\n",
       "      <td>KM (10/2/2001 5:55:18 PM); \\tThis PR about the...</td>\n",
       "      <td>RESOLVED</td>\n",
       "      <td>FIXED</td>\n",
       "      <td>2.0</td>\n",
       "      <td>2001-10-10 21:34:00 -0400</td>\n",
       "      <td>2010-05-07 10:28:53 -0400</td>\n",
       "    </tr>\n",
       "    <tr>\n",
       "      <td>3</td>\n",
       "      <td>4</td>\n",
       "      <td>P5</td>\n",
       "      <td>Team</td>\n",
       "      <td>NaN</td>\n",
       "      <td>need better error message if catching up over ...</td>\n",
       "      <td>- become synchronized with some project in a r...</td>\n",
       "      <td>RESOLVED</td>\n",
       "      <td>FIXED</td>\n",
       "      <td>2.0</td>\n",
       "      <td>2001-10-10 21:34:00 -0400</td>\n",
       "      <td>2002-03-01 16:27:31 -0500</td>\n",
       "    </tr>\n",
       "    <tr>\n",
       "      <td>4</td>\n",
       "      <td>5</td>\n",
       "      <td>P3</td>\n",
       "      <td>Team</td>\n",
       "      <td>NaN</td>\n",
       "      <td>ISharingManager sharing API inconsistent (1GAU...</td>\n",
       "      <td>For getting/setting the managed state of a res...</td>\n",
       "      <td>RESOLVED</td>\n",
       "      <td>WONTFIX</td>\n",
       "      <td>2.0</td>\n",
       "      <td>2001-10-10 21:34:00 -0400</td>\n",
       "      <td>2008-08-15 08:04:36 -0400</td>\n",
       "    </tr>\n",
       "  </tbody>\n",
       "</table>\n",
       "</div>"
      ],
      "text/plain": [
       "   Issue_id Priority Component  Duplicated_issue  \\\n",
       "0         1       P3      Team               NaN   \n",
       "1         2       P5      Team               NaN   \n",
       "2         3       P5      Team               NaN   \n",
       "3         4       P5      Team               NaN   \n",
       "4         5       P3      Team               NaN   \n",
       "\n",
       "                                               Title  \\\n",
       "0    Usability issue with external editors (1GE6IRL)   \n",
       "1  Opening repository resources doesnt honor type...   \n",
       "2          Sync does not indicate deletion (1GIEN83)   \n",
       "3  need better error message if catching up over ...   \n",
       "4  ISharingManager sharing API inconsistent (1GAU...   \n",
       "\n",
       "                                         Description    Status Resolution  \\\n",
       "0  - Setup a project that contains a *.gif resour...    CLOSED      FIXED   \n",
       "1  Opening repository resource always open the de...  RESOLVED      FIXED   \n",
       "2  KM (10/2/2001 5:55:18 PM); \\tThis PR about the...  RESOLVED      FIXED   \n",
       "3  - become synchronized with some project in a r...  RESOLVED      FIXED   \n",
       "4  For getting/setting the managed state of a res...  RESOLVED    WONTFIX   \n",
       "\n",
       "  Version               Created_time              Resolved_time  \n",
       "0     2.0  2001-10-10 21:34:00 -0400  2012-02-09 15:57:47 -0500  \n",
       "1     2.0  2001-10-10 21:34:00 -0400  2002-05-07 10:33:56 -0400  \n",
       "2     2.0  2001-10-10 21:34:00 -0400  2010-05-07 10:28:53 -0400  \n",
       "3     2.0  2001-10-10 21:34:00 -0400  2002-03-01 16:27:31 -0500  \n",
       "4     2.0  2001-10-10 21:34:00 -0400  2008-08-15 08:04:36 -0400  "
      ]
     },
     "execution_count": 3,
     "metadata": {},
     "output_type": "execute_result"
    }
   ],
   "source": [
    "#Reading the dataset from the csv file\n",
    "df = pd.read_csv('eclipse_platform.csv')\n",
    "\n",
    "df.head()"
   ]
  },
  {
   "cell_type": "code",
   "execution_count": 4,
   "metadata": {},
   "outputs": [
    {
     "name": "stdout",
     "output_type": "stream",
     "text": [
      "<class 'pandas.core.frame.DataFrame'>\n",
      "RangeIndex: 85156 entries, 0 to 85155\n",
      "Data columns (total 11 columns):\n",
      "Issue_id            85156 non-null int64\n",
      "Priority            85156 non-null object\n",
      "Component           85156 non-null object\n",
      "Duplicated_issue    14404 non-null float64\n",
      "Title               85156 non-null object\n",
      "Description         85027 non-null object\n",
      "Status              85156 non-null object\n",
      "Resolution          85156 non-null object\n",
      "Version             85156 non-null object\n",
      "Created_time        85156 non-null object\n",
      "Resolved_time       85156 non-null object\n",
      "dtypes: float64(1), int64(1), object(9)\n",
      "memory usage: 7.1+ MB\n"
     ]
    }
   ],
   "source": [
    "df.info()"
   ]
  },
  {
   "cell_type": "code",
   "execution_count": 22,
   "metadata": {},
   "outputs": [
    {
     "name": "stdout",
     "output_type": "stream",
     "text": [
      "<class 'pandas.core.frame.DataFrame'>\n",
      "Int64Index: 1000 entries, 10720 to 34367\n",
      "Data columns (total 11 columns):\n",
      "Issue_id            1000 non-null int64\n",
      "Priority            1000 non-null object\n",
      "Component           1000 non-null object\n",
      "Duplicated_issue    181 non-null float64\n",
      "Title               1000 non-null object\n",
      "Description         998 non-null object\n",
      "Status              1000 non-null object\n",
      "Resolution          1000 non-null object\n",
      "Version             1000 non-null object\n",
      "Created_time        1000 non-null object\n",
      "Resolved_time       1000 non-null object\n",
      "dtypes: float64(1), int64(1), object(9)\n",
      "memory usage: 93.8+ KB\n"
     ]
    }
   ],
   "source": [
    "# Selecting 1000 bug report to calssify them manually \n",
    "df_sample = df.sample(n=1000, random_state=42)\n",
    "\n",
    "df_sample.info()"
   ]
  },
  {
   "cell_type": "code",
   "execution_count": 23,
   "metadata": {},
   "outputs": [],
   "source": [
    "# Generate a file name based on time (we don't want to overwrite the file after each run)\n",
    "filename = ('sample_200_' + str(datetime.datetime.now())+ '.csv').replace(':','_').replace(' ','_')\n",
    "df_sample.to_csv(filename)"
   ]
  },
  {
   "cell_type": "code",
   "execution_count": 25,
   "metadata": {},
   "outputs": [],
   "source": [
    "# Selecting 100 bug report as our evaluation set\n",
    "df_eval = df.sample(100,random_state=42)\n",
    "df_eval.to_csv('evaluation_set.csv')"
   ]
  },
  {
   "cell_type": "code",
   "execution_count": 48,
   "metadata": {},
   "outputs": [],
   "source": [
    "# Reading the manually classified file\n",
    "df_tagged = pd.read_csv('sample_1000.csv', index_col='Issue_id')"
   ]
  },
  {
   "cell_type": "code",
   "execution_count": 49,
   "metadata": {},
   "outputs": [],
   "source": [
    "df_tagged = df_tagged[~df_tagged['Tag'].isna()]"
   ]
  },
  {
   "cell_type": "code",
   "execution_count": 50,
   "metadata": {},
   "outputs": [],
   "source": [
    "df_tagged = df_tagged[['Priority','Component','Title','Description','Tag']]"
   ]
  },
  {
   "cell_type": "code",
   "execution_count": 57,
   "metadata": {},
   "outputs": [],
   "source": [
    "#Adding length of title and description to the data frame. We want to know if there is any relationship between length and tag\n",
    "df_tagged['Title_len'] = df_tagged['Title'].apply(lambda x : len(x))\n",
    "df_tagged['Description_len'] = df_tagged['Description'].apply(lambda x : len(x))"
   ]
  },
  {
   "cell_type": "code",
   "execution_count": 58,
   "metadata": {},
   "outputs": [
    {
     "data": {
      "text/html": [
       "<div>\n",
       "<style scoped>\n",
       "    .dataframe tbody tr th:only-of-type {\n",
       "        vertical-align: middle;\n",
       "    }\n",
       "\n",
       "    .dataframe tbody tr th {\n",
       "        vertical-align: top;\n",
       "    }\n",
       "\n",
       "    .dataframe thead th {\n",
       "        text-align: right;\n",
       "    }\n",
       "</style>\n",
       "<table border=\"1\" class=\"dataframe\">\n",
       "  <thead>\n",
       "    <tr style=\"text-align: right;\">\n",
       "      <th></th>\n",
       "      <th>Priority</th>\n",
       "      <th>Component</th>\n",
       "      <th>Title</th>\n",
       "      <th>Description</th>\n",
       "      <th>Tag</th>\n",
       "      <th>Title_len</th>\n",
       "      <th>Description_len</th>\n",
       "    </tr>\n",
       "    <tr>\n",
       "      <th>Issue_id</th>\n",
       "      <th></th>\n",
       "      <th></th>\n",
       "      <th></th>\n",
       "      <th></th>\n",
       "      <th></th>\n",
       "      <th></th>\n",
       "      <th></th>\n",
       "    </tr>\n",
       "  </thead>\n",
       "  <tbody>\n",
       "    <tr>\n",
       "      <td>131003</td>\n",
       "      <td>P3</td>\n",
       "      <td>Text</td>\n",
       "      <td>[javadoc] IDrawingStrategy documentation does ...</td>\n",
       "      <td>The paint method of IDrawingStrategy can be ca...</td>\n",
       "      <td>BE</td>\n",
       "      <td>66</td>\n",
       "      <td>169</td>\n",
       "    </tr>\n",
       "    <tr>\n",
       "      <td>56510</td>\n",
       "      <td>P3</td>\n",
       "      <td>UI</td>\n",
       "      <td>[CheatSheets] Cheat Sheet Selection dialog doe...</td>\n",
       "      <td></td>\n",
       "      <td>FE</td>\n",
       "      <td>67</td>\n",
       "      <td>1</td>\n",
       "    </tr>\n",
       "    <tr>\n",
       "      <td>383992</td>\n",
       "      <td>P3</td>\n",
       "      <td>UI</td>\n",
       "      <td>Juno: calling getPartialMatches causes a stack...</td>\n",
       "      <td>calling bindingService.getPartialMatches(trigg...</td>\n",
       "      <td>BE</td>\n",
       "      <td>55</td>\n",
       "      <td>843</td>\n",
       "    </tr>\n",
       "    <tr>\n",
       "      <td>56409</td>\n",
       "      <td>P3</td>\n",
       "      <td>Runtime</td>\n",
       "      <td>[other] Core tools need work</td>\n",
       "      <td>In an effort to get the Core tools working aga...</td>\n",
       "      <td>UN</td>\n",
       "      <td>28</td>\n",
       "      <td>647</td>\n",
       "    </tr>\n",
       "    <tr>\n",
       "      <td>355228</td>\n",
       "      <td>P3</td>\n",
       "      <td>UI</td>\n",
       "      <td>Modifications to the EModelService.cloneElemen...</td>\n",
       "      <td>1) The clone API should not make any assumptio...</td>\n",
       "      <td>BE</td>\n",
       "      <td>53</td>\n",
       "      <td>621</td>\n",
       "    </tr>\n",
       "  </tbody>\n",
       "</table>\n",
       "</div>"
      ],
      "text/plain": [
       "         Priority Component  \\\n",
       "Issue_id                      \n",
       "131003         P3      Text   \n",
       "56510          P3        UI   \n",
       "383992         P3        UI   \n",
       "56409          P3   Runtime   \n",
       "355228         P3        UI   \n",
       "\n",
       "                                                      Title  \\\n",
       "Issue_id                                                      \n",
       "131003    [javadoc] IDrawingStrategy documentation does ...   \n",
       "56510     [CheatSheets] Cheat Sheet Selection dialog doe...   \n",
       "383992    Juno: calling getPartialMatches causes a stack...   \n",
       "56409                          [other] Core tools need work   \n",
       "355228    Modifications to the EModelService.cloneElemen...   \n",
       "\n",
       "                                                Description Tag  Title_len  \\\n",
       "Issue_id                                                                     \n",
       "131003    The paint method of IDrawingStrategy can be ca...  BE         66   \n",
       "56510                                                        FE         67   \n",
       "383992    calling bindingService.getPartialMatches(trigg...  BE         55   \n",
       "56409     In an effort to get the Core tools working aga...  UN         28   \n",
       "355228    1) The clone API should not make any assumptio...  BE         53   \n",
       "\n",
       "          Description_len  \n",
       "Issue_id                   \n",
       "131003                169  \n",
       "56510                   1  \n",
       "383992                843  \n",
       "56409                 647  \n",
       "355228                621  "
      ]
     },
     "execution_count": 58,
     "metadata": {},
     "output_type": "execute_result"
    }
   ],
   "source": [
    "df_tagged.head()"
   ]
  },
  {
   "cell_type": "markdown",
   "metadata": {},
   "source": [
    "#### Normalizing texts\n",
    "\n",
    "><ol>\n",
    "    <li>Fo analyzing the natural language first we need to remove all the punctuations from sentences.</li>\n",
    "    <li>Next we need to remove stop words such as and, or, to and... as these words do not have any specific value for us in this context</li>\n",
    "    <li>Finally, we need to convert all the verbs to its root form. For example, got and get will be converted to get.</li>\n",
    "</ol>"
   ]
  },
  {
   "cell_type": "code",
   "execution_count": 64,
   "metadata": {},
   "outputs": [
    {
     "data": {
      "text/plain": [
       "['test', 'remov', 'stop', 'word', 'convert', 'verb']"
      ]
     },
     "execution_count": 64,
     "metadata": {},
     "output_type": "execute_result"
    }
   ],
   "source": [
    "#this method performs all the three actions listed above\n",
    "\n",
    "porter = PorterStemmer()\n",
    "lancaster=LancasterStemmer()\n",
    "def text_process(mess):\n",
    "    nopunc = [char for char in mess if char not in string.punctuation] #1. removing punchuation\n",
    "    nopunc = ''.join(nopunc)\n",
    "    listOfWords = [word for word in nopunc.split() if word.lower() not in stopwords.words('english')] #2. Removing the stop words\n",
    "    listOfWords2=[];\n",
    "    for word in listOfWords:\n",
    "        listOfWords2.append(porter.stem(word)) #3. Converting to the root form\n",
    "    return listOfWords2\n",
    "\n",
    "# Example\n",
    "text_process('it is a test for removing stop words, and converting verbs.')"
   ]
  },
  {
   "cell_type": "markdown",
   "metadata": {},
   "source": [
    "## Feature selection:\n",
    "><ol>\n",
    "    <li>Title length</li>\n",
    "    <li>discription length</li>\n",
    "    <li>Component column</li>\n",
    "    <li>Title text bag of words (bow)</li>\n",
    "    <li>Description text bag of words (bow)</li>\n",
    "    <li>Title text term frequency invers Document frequency (tf-idf)</li>\n",
    "    <li>Description term frequency invers Document frequency (tf-idf)</li>\n",
    "</ol>\n"
   ]
  },
  {
   "cell_type": "markdown",
   "metadata": {},
   "source": [
    "**1.** Based on the histograms below it seems there is **no coroolation** between *length of the title* and the *tag*"
   ]
  },
  {
   "cell_type": "code",
   "execution_count": 65,
   "metadata": {},
   "outputs": [
    {
     "data": {
      "image/png": "[encoded data removed]",
      "text/plain": [
       "<Figure size 720x864 with 4 Axes>"
      ]
     },
     "metadata": {
      "needs_background": "light"
     },
     "output_type": "display_data"
    }
   ],
   "source": [
    "df_tagged.hist(column='Title_len', by ='Tag' ,bins=10, figsize = (10,12));"
   ]
  },
  {
   "cell_type": "markdown",
   "metadata": {},
   "source": [
    "**1.** Based on the histograms below it seems there is **no coroolation** between *length of the description* and the *tag*"
   ]
  },
  {
   "cell_type": "code",
   "execution_count": 66,
   "metadata": {},
   "outputs": [
    {
     "data": {
      "image/png": "[encoded data removed]",
      "text/plain": [
       "<Figure size 720x864 with 4 Axes>"
      ]
     },
     "metadata": {
      "needs_background": "light"
     },
     "output_type": "display_data"
    }
   ],
   "source": [
    "df_tagged.hist(column='Description_len', by ='Tag' ,bins=10, figsize = (10,12));"
   ]
  },
  {
   "cell_type": "code",
   "execution_count": null,
   "metadata": {},
   "outputs": [],
   "source": []
  }
 ],
 "metadata": {
  "kernelspec": {
   "display_name": "Python 3",
   "language": "python",
   "name": "python3"
  },
  "language_info": {
   "codemirror_mode": {
    "name": "ipython",
    "version": 3
   },
   "file_extension": ".py",
   "mimetype": "text/x-python",
   "name": "python",
   "nbconvert_exporter": "python",
   "pygments_lexer": "ipython3",
   "version": "3.7.4"
  }
 },
 "nbformat": 4,
 "nbformat_minor": 2
}
